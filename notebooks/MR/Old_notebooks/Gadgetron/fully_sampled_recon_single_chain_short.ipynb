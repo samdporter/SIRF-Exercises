{
 "cells": [
  {
   "cell_type": "code",
   "execution_count": null,
   "metadata": {},
   "outputs": [],
   "source": [
    "#'''\n",
    "#Lower-level interface demo that illustrates creating and running a chain\n",
    "#of gadgets - shortest version.\n",
    "#\n",
    "#Usage:   JUPYTER EDITED NAME\n",
    "#  fully_sampled_recon_single_chain_short.py [--help | options]\n",
    "#\n",
    "#Options:\n",
    "#  -f <file>, --file=<file>    raw data file\n",
    "#                              [default: simulated_MR_2D_cartesian.h5]\n",
    "#  -p <path>, --path=<path>    path to data files, defaults to data/examples/MR\n",
    "#                              subfolder of SIRF root folder\n",
    "#  -o <file>, --output=<file>  images output file\n",
    "#'''\n",
    "#\n",
    "## CCP PETMR Synergistic Image Reconstruction Framework (SIRF)\n",
    "## Copyright 2015 - 2017 Rutherford Appleton Laboratory STFC\n",
    "## Copyright 2015 - 2017 University College London.\n",
    "##\n",
    "## This is software developed for the Collaborative Computational\n",
    "## Project in Positron Emission Tomography and Magnetic Resonance imaging\n",
    "## (http://www.ccppetmr.ac.uk/).\n",
    "##\n",
    "## SPDX-License-Identifier: Apache-2.0\n",
    "\n",
    "__version__ = '0.1.0'\n",
    "from docopt import docopt\n",
    "\n",
    "# import engine module\n",
    "from sirf.Gadgetron import *\n",
    "\n",
    "# process command-line options\n",
    "data_file = 'simulated_MR_2D_cartesian.h5'\n",
    "data_path = examples_data_path('MR')\n",
    "output_file = 'Gfsout.h5'\n",
    "\n",
    "\n",
    "\n",
    "# locate the input data\n",
    "input_file = existing_filepath(data_path, data_file)\n",
    "acq_data = AcquisitionData(input_file)\n",
    "\n",
    "# create reconstruction object\n",
    "recon = Reconstructor(['RemoveROOversamplingGadget', \\\n",
    "    'SimpleReconGadgetSet'])\n",
    "# reconstruct images\n",
    "image_data = recon.reconstruct(acq_data)\n",
    "# show reconstructed images\n",
    "image_array = image_data.as_array()\n",
    "title = 'Reconstructed images (magnitude)'\n",
    "%matplotlib inline\n",
    "show_3D_array(abs(image_array), suptitle = title, \\\n",
    "                  xlabel = 'samples', ylabel = 'readouts', label = 'slice')\n",
    "\n",
    "if output_file is not None:\n",
    "    print('writing to %s' % output_file)\n",
    "    image_data.write(output_file)"
   ]
  },
  {
   "cell_type": "code",
   "execution_count": null,
   "metadata": {},
   "outputs": [],
   "source": []
  }
 ],
 "metadata": {
  "kernelspec": {
   "display_name": "Python 2",
   "language": "python",
   "name": "python2"
  },
  "language_info": {
   "codemirror_mode": {
    "name": "ipython"
   },
   "file_extension": ".py",
   "mimetype": "text/x-python",
   "name": "python",
   "nbconvert_exporter": "python"
  }
 },
 "nbformat": 4,
 "nbformat_minor": 2
}
